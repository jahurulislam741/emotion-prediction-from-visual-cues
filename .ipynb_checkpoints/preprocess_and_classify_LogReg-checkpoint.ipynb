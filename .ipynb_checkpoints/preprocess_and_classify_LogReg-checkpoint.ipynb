{
 "cells": [
  {
   "cell_type": "markdown",
   "id": "72e0dd02",
   "metadata": {},
   "source": [
    "### Introduction to the problem\n",
    "The problem at hand is to classify speech emotions based on the movement of lips, jaw and eye-brows. We'll call these movement data as Facial Action Parameters (FAP). \n",
    "\n",
    "#### The dataset\n",
    "We will use a custom dataset for the task here. A subset of videos from the [RAVDESS](https://zenodo.org/record/1188976) corpus, which contains video recordings representing different speech emotions (happy, angry, sad, etc.) performed by professional actors, was used to extract the FAPs using an open-source toolkit named [OpenFace](https://github.com/TadasBaltrusaitis/OpenFace).  \n",
    "\n",
    "To be more specific, when a video file is fed into OpenFace, it returns a number of \"Action Units\" (AUs) representing the magnitude of the movement of different parts of the face (e.g., lip corner pulling, lip raising/lowering, jaw-dropping, eye-brow raising, etc.) including eye gaze as a function of time. More information on the AUs can be found [HERE](https://github.com/TadasBaltrusaitis/OpenFace/wiki/Action-Units).\n",
    "\n",
    "The raw output for each sound clip in the data for this project are prodided in the folder \"1_speech_OpenFace_AUs\"; however, we are not going to use all the raw information OpenFace provides; rather, we'll use only 17 AUs representing the lip and eye-brow actions. \n",
    "\n",
    "The dataset to be used in this task contain eight different emotion categories: neutral, calm, happy, sad, angry, fearful, disgust, and surprised. While the RAVDESS dataset also contains emotion in songs, our dataset come only from speech. "
   ]
  },
  {
   "cell_type": "markdown",
   "id": "d91853c9-666e-4189-87d8-1f46b928d67e",
   "metadata": {},
   "source": [
    "### Preprocessing of the raw data\n",
    "First, we will preprocess the data. For each source data file, we'll:  \n",
    "+ remove the columns except for the AUs relevent for us\n",
    "+ change dimension of the matrix so that data from each video clip are matched for dimensions\n",
    "    - we'll simply pad zeros equally on both sides of the matrix so that the dimension matches the dimenstion of the largest matrix in the data\n",
    "+ write processed matrices as back as CSV files in a separate folder"
   ]
  },
  {
   "cell_type": "code",
   "execution_count": 11,
   "id": "6c9d4ee1",
   "metadata": {},
   "outputs": [],
   "source": [
    "# import libraries\n",
    "import os\n",
    "import numpy as np\n",
    "import pandas as pd\n",
    "import matplotlib.pyplot as plt\n",
    "import seaborn as sns\n",
    "from IPython.display import display, clear_output"
   ]
  },
  {
   "cell_type": "code",
   "execution_count": 12,
   "id": "8c712f13",
   "metadata": {},
   "outputs": [],
   "source": [
    "# function: pad 2D numpy array with zeros equally on left and right\n",
    "def pad_zeros_on_left_and_right(np_array, pad_width):\n",
    "    '''\n",
    "    pad 2D numpy array with zeros equally on left and right\n",
    "    '''\n",
    "    padded_on_four_sides = np.pad(np_array, pad_width)\n",
    "    padded_on_three_sides = padded_on_four_sides[pad_width:]\n",
    "    padded_on_two_sides = padded_on_three_sides[:-pad_width]\n",
    "    return padded_on_two_sides"
   ]
  },
  {
   "cell_type": "code",
   "execution_count": 13,
   "id": "fda15aa2",
   "metadata": {},
   "outputs": [
    {
     "name": "stdout",
     "output_type": "stream",
     "text": [
      "2880\n"
     ]
    }
   ],
   "source": [
    "# get filenames of the data files\n",
    "dir_path = \"1_speech_OpenFace_AUs\"\n",
    "filenames = os.listdir(dir_path)\n",
    "filenames = [f for f in filenames if \".csv\" in f]\n",
    "filenames[:5]\n",
    "print(len(filenames)) # print the number of files in the dataset"
   ]
  },
  {
   "cell_type": "code",
   "execution_count": 5,
   "id": "5534eb0e",
   "metadata": {},
   "outputs": [
    {
     "name": "stdout",
     "output_type": "stream",
     "text": [
      "2880\n",
      "157\n"
     ]
    }
   ],
   "source": [
    "# get dimension of the longest data file\n",
    "nrows_l = []\n",
    "i = 0\n",
    "for fname in filenames:\n",
    "    clear_output(wait=True)\n",
    "    print(i + 1)\n",
    "    i += 1\n",
    "    fpath = os.path.join(dir_path, fname) # get full \"relative\" path of the file\n",
    "    df = pd.read_csv(fpath) # read the file's data\n",
    "    nrows_l.append(df.shape[0])\n",
    "print(max(nrows_l))"
   ]
  },
  {
   "cell_type": "code",
   "execution_count": 9,
   "id": "8e028b69",
   "metadata": {},
   "outputs": [
    {
     "name": "stdout",
     "output_type": "stream",
     "text": [
      "Files processed: 1\n",
      "(103, 17)\n",
      "A single input matrix\n",
      "     0     1     2     3     4     5     6     7     8     9    ...   93   \\\n",
      "0   0.00  0.00  0.00  0.00  0.00  0.00  0.00  0.00  0.00  0.00  ...  0.00   \n",
      "1   0.03  0.01  0.00  0.00  0.00  0.00  0.00  0.00  0.00  0.00  ...  0.00   \n",
      "2   0.00  0.00  0.00  0.00  0.00  0.05  0.05  0.05  0.00  0.00  ...  0.00   \n",
      "3   0.00  0.03  0.03  0.03  0.03  0.03  0.00  0.05  0.07  0.12  ...  0.00   \n",
      "4   0.00  0.00  0.00  0.00  0.00  0.00  0.00  0.00  0.00  0.00  ...  0.00   \n",
      "5   0.19  0.49  0.58  0.44  0.34  0.39  0.53  0.66  0.63  0.57  ...  0.46   \n",
      "6   0.00  0.00  0.00  0.00  0.00  0.00  0.00  0.00  0.00  0.00  ...  0.00   \n",
      "7   0.67  0.64  0.71  0.76  0.80  0.72  0.73  0.69  0.72  0.61  ...  0.49   \n",
      "8   0.05  0.02  0.00  0.00  0.00  0.00  0.00  0.00  0.00  0.00  ...  0.24   \n",
      "9   0.00  0.00  0.00  0.00  0.00  0.00  0.00  0.00  0.00  0.00  ...  0.22   \n",
      "10  0.09  0.11  0.14  0.18  0.11  0.05  0.02  0.00  0.03  0.05  ...  0.01   \n",
      "11  0.85  0.92  0.90  0.86  0.85  0.98  1.02  1.03  0.95  0.86  ...  0.26   \n",
      "12  0.00  0.00  0.02  0.09  0.13  0.18  0.26  0.32  0.30  0.16  ...  0.00   \n",
      "13  0.06  0.17  0.20  0.16  0.09  0.10  0.09  0.12  0.13  0.12  ...  0.15   \n",
      "14  0.00  0.02  0.02  0.04  0.16  0.16  0.14  0.02  0.03  0.06  ...  0.00   \n",
      "15  0.16  0.16  0.10  0.07  0.03  0.12  0.22  0.29  0.20  0.09  ...  0.00   \n",
      "16  0.04  0.12  0.15  0.20  0.25  0.26  0.26  0.28  0.37  0.44  ...  0.00   \n",
      "\n",
      "     94    95    96    97    98    99    100   101   102  \n",
      "0   0.00  0.00  0.00  0.00  0.00  0.00  0.00  0.00  0.00  \n",
      "1   0.00  0.00  0.00  0.00  0.00  0.00  0.00  0.00  0.00  \n",
      "2   0.00  0.00  0.00  0.00  0.00  0.00  0.00  0.00  0.00  \n",
      "3   0.00  0.00  0.00  0.00  0.00  0.00  0.00  0.00  0.00  \n",
      "4   0.00  0.00  0.00  0.00  0.00  0.00  0.00  0.00  0.00  \n",
      "5   0.56  0.62  0.56  0.42  0.46  0.61  0.69  0.67  0.61  \n",
      "6   0.00  0.00  0.00  0.00  0.00  0.00  0.00  0.00  0.00  \n",
      "7   0.57  0.59  0.61  0.59  0.60  0.61  0.63  0.62  0.62  \n",
      "8   0.23  0.22  0.22  0.21  0.20  0.19  0.22  0.24  0.28  \n",
      "9   0.30  0.34  0.35  0.36  0.42  0.42  0.48  0.45  0.47  \n",
      "10  0.01  0.01  0.03  0.03  0.09  0.11  0.16  0.09  0.00  \n",
      "11  0.40  0.59  0.60  0.51  0.39  0.46  0.50  0.56  0.51  \n",
      "12  0.03  0.03  0.03  0.00  0.03  0.03  0.05  0.02  0.00  \n",
      "13  0.22  0.25  0.22  0.22  0.19  0.18  0.19  0.20  0.23  \n",
      "14  0.00  0.00  0.00  0.00  0.00  0.00  0.00  0.00  0.00  \n",
      "15  0.00  0.00  0.00  0.00  0.05  0.11  0.14  0.09  0.00  \n",
      "16  0.00  0.00  0.00  0.00  0.00  0.00  0.00  0.00  0.00  \n",
      "\n",
      "[17 rows x 103 columns]\n"
     ]
    },
    {
     "ename": "NameError",
     "evalue": "name 'fail' is not defined",
     "output_type": "error",
     "traceback": [
      "\u001b[0;31m---------------------------------------------------------------------------\u001b[0m",
      "\u001b[0;31mNameError\u001b[0m                                 Traceback (most recent call last)",
      "Cell \u001b[0;32mIn[9], line 27\u001b[0m\n\u001b[1;32m     25\u001b[0m \u001b[38;5;28mprint\u001b[39m(\u001b[38;5;124m'\u001b[39m\u001b[38;5;124mA single input matrix\u001b[39m\u001b[38;5;124m'\u001b[39m)\n\u001b[1;32m     26\u001b[0m \u001b[38;5;28mprint\u001b[39m(pd\u001b[38;5;241m.\u001b[39mDataFrame(df_trans))\n\u001b[0;32m---> 27\u001b[0m \u001b[43mfail\u001b[49m\n\u001b[1;32m     29\u001b[0m pad_width \u001b[38;5;241m=\u001b[39m \u001b[38;5;28mround\u001b[39m((desired_ncol \u001b[38;5;241m-\u001b[39m df_trans\u001b[38;5;241m.\u001b[39mshape[\u001b[38;5;241m1\u001b[39m])\u001b[38;5;241m/\u001b[39m\u001b[38;5;241m2\u001b[39m)\n\u001b[1;32m     30\u001b[0m df_trans_padded \u001b[38;5;241m=\u001b[39m pad_zeros_on_left_and_right(df_trans, pad_width)\n",
      "\u001b[0;31mNameError\u001b[0m: name 'fail' is not defined"
     ]
    }
   ],
   "source": [
    "# read csv files and pad with zeros to match dimensions\n",
    "# write each file back as CSV\n",
    "desired_ncol = max(nrows_l)\n",
    "\n",
    "out_dir = '2_speech_AUs_dimension_matched'\n",
    "i = 0\n",
    "for fname in filenames:\n",
    "    clear_output(wait=True)\n",
    "    i += 1\n",
    "    print(f'Files processed: {i}')\n",
    "    \n",
    "    fpath = os.path.join(dir_path, fname) # get full \"relative\" path of the file\n",
    "    df = pd.read_csv(fpath) # read the file's data\n",
    "    df.columns = [c.strip() for c in df.columns] # remove white spaces from column names   \n",
    "\n",
    "    # subset AU_r columns\n",
    "    cols_AU = [c for c in df.columns if c.startswith('AU') and c.endswith('_r')] # keep only AU_r columns\n",
    "    df = df[cols_AU]\n",
    "    \n",
    "    # convert to np array\n",
    "    df = df.to_numpy() \n",
    "    print(df.shape)\n",
    "    df_trans = df.T\n",
    "    \n",
    "    print('A single input matrix')\n",
    "    print(pd.DataFrame(df_trans))\n",
    "    fail\n",
    "    \n",
    "    pad_width = round((desired_ncol - df_trans.shape[1])/2)\n",
    "    df_trans_padded = pad_zeros_on_left_and_right(df_trans, pad_width)\n",
    "    \n",
    "    df_trans_padded = df_trans_padded[:, :(desired_ncol-3)] # drop rows from the end to match col numbers\n",
    "    print(df_trans_padded.shape)\n",
    "\n",
    "    df = pd.DataFrame(df_trans_padded) # rows are action units; cols are timepoints\n",
    "    \n",
    "    # write to CSV\n",
    "    out_fpath = os.path.join(out_dir, fname)\n",
    "    df.to_csv(out_fpath, index = False) # write to CSV\n",
    "    "
   ]
  },
  {
   "cell_type": "markdown",
   "id": "383cab39-dccd-47b3-8c24-70fd7fa63f2d",
   "metadata": {},
   "source": [
    "## Exploratory data analysis\n",
    "### Visual investigation\n",
    "Next, we'll perform some visual investigation to see if there are any intuitive patterns across the emotion categories in terms of the AUs."
   ]
  },
  {
   "cell_type": "code",
   "execution_count": 1,
   "id": "ded6eeba-2a8c-4358-a5e8-dfed2a18a009",
   "metadata": {},
   "outputs": [],
   "source": [
    "# import libraries\n",
    "import os\n",
    "import numpy as np\n",
    "import pandas as pd\n",
    "import matplotlib.pyplot as plt\n",
    "import seaborn as sns\n",
    "from IPython.display import display, clear_output\n",
    "\n",
    "# load processed data\n",
    "# get filenames of the data files\n",
    "dir_path = \"2_speech_AUs_dimension_matched\"\n",
    "filenames = os.listdir(dir_path)"
   ]
  },
  {
   "cell_type": "code",
   "execution_count": 2,
   "id": "4754dd93-2454-4202-8baa-c71f6f7a64bb",
   "metadata": {},
   "outputs": [],
   "source": [
    "hap_fpath = os.path.join(dir_path, filenames[1])\n",
    "hap_data = pd.read_csv(hap_fpath)\n",
    "\n",
    "sad_fpath = os.path.join(dir_path, filenames[0])\n",
    "sad_data = pd.read_csv(sad_fpath)\n",
    "\n",
    "ang_fpath = os.path.join(dir_path, filenames[3])\n",
    "ang_data = pd.read_csv(ang_fpath)"
   ]
  },
  {
   "cell_type": "code",
   "execution_count": 3,
   "id": "f987454b-378e-480f-98ef-cf0f3920856d",
   "metadata": {},
   "outputs": [
    {
     "data": {
      "image/png": "[encoded data removed]",
      "text/plain": [
       "<Figure size 1000x600 with 6 Axes>"
      ]
     },
     "metadata": {},
     "output_type": "display_data"
    }
   ],
   "source": [
    "fig, ax = plt.subplots(nrows = 3, ncols = 1, figsize = (10,6))\n",
    "sns.heatmap(hap_data, ax = ax[0]).set_title('happy')\n",
    "sns.heatmap(sad_data, ax = ax[1]).set_title('sad')\n",
    "sns.heatmap(ang_data, ax = ax[2]).set_title('angry')\n",
    "fig.tight_layout()\n",
    "plt.show()"
   ]
  },
  {
   "cell_type": "code",
   "execution_count": 17,
   "id": "3cf51bac-719d-4cce-98f0-664ccfcfa3a0",
   "metadata": {},
   "outputs": [
    {
     "data": {
      "text/plain": [
       "<AxesSubplot: >"
      ]
     },
     "execution_count": 17,
     "metadata": {},
     "output_type": "execute_result"
    },
    {
     "data": {
      "image/png": "[encoded data removed]",
      "text/plain": [
       "<Figure size 1200x200 with 1 Axes>"
      ]
     },
     "metadata": {},
     "output_type": "display_data"
    }
   ],
   "source": [
    "plt.figure(figsize=(12,2))\n",
    "hap_data.loc[5].plot()\n",
    "hap_data.loc[9].plot()\n",
    "hap_data.loc[12].plot()\n",
    "# plt.plot(hap_data.loc[5])"
   ]
  },
  {
   "cell_type": "code",
   "execution_count": 18,
   "id": "d18b5799-b81a-400a-ac4b-ecd821c9eafb",
   "metadata": {},
   "outputs": [
    {
     "name": "stdout",
     "output_type": "stream",
     "text": [
      "1.9516883116883117\n",
      "1.4086683428873508\n",
      "\n",
      "0.5086363636363636\n",
      "0.41880018510182443\n",
      "\n",
      "0.044350649350649335\n",
      "0.08178150590060411\n"
     ]
    }
   ],
   "source": [
    "print(np.mean(hap_data.loc[5]))\n",
    "print(np.std(hap_data.loc[5]))\n",
    "print()\n",
    "print(np.mean(hap_data.loc[9]))\n",
    "print(np.std(hap_data.loc[9]))\n",
    "print()\n",
    "print(np.mean(hap_data.loc[12]))\n",
    "print(np.std(hap_data.loc[12]))"
   ]
  },
  {
   "cell_type": "markdown",
   "id": "615a3dfa-dcc8-4a09-a948-f3575c52c926",
   "metadata": {},
   "source": [
    "As it can be seen from the three plots above, the three emotions are remarkably different in terms of the activation of the AUs; that is, different sets of AUs are active in diferent emotions. Therefore, AUs should be useful and effective features in classifying emotions. "
   ]
  },
  {
   "cell_type": "code",
   "execution_count": 28,
   "id": "71766679-597c-468a-96ee-05370b6eb767",
   "metadata": {},
   "outputs": [
    {
     "name": "stdout",
     "output_type": "stream",
     "text": [
      "Files processed: 1000\n"
     ]
    },
    {
     "data": {
      "text/html": [
       "<div>\n",
       "<style scoped>\n",
       "    .dataframe tbody tr th:only-of-type {\n",
       "        vertical-align: middle;\n",
       "    }\n",
       "\n",
       "    .dataframe tbody tr th {\n",
       "        vertical-align: top;\n",
       "    }\n",
       "\n",
       "    .dataframe thead th {\n",
       "        text-align: right;\n",
       "    }\n",
       "</style>\n",
       "<table border=\"1\" class=\"dataframe\">\n",
       "  <thead>\n",
       "    <tr style=\"text-align: right;\">\n",
       "      <th></th>\n",
       "      <th>emotion</th>\n",
       "      <th>0</th>\n",
       "      <th>1</th>\n",
       "      <th>2</th>\n",
       "      <th>3</th>\n",
       "      <th>4</th>\n",
       "      <th>5</th>\n",
       "      <th>6</th>\n",
       "      <th>7</th>\n",
       "      <th>8</th>\n",
       "      <th>9</th>\n",
       "      <th>10</th>\n",
       "      <th>11</th>\n",
       "      <th>12</th>\n",
       "      <th>13</th>\n",
       "      <th>14</th>\n",
       "      <th>15</th>\n",
       "      <th>16</th>\n",
       "    </tr>\n",
       "  </thead>\n",
       "  <tbody>\n",
       "    <tr>\n",
       "      <th>0</th>\n",
       "      <td>04</td>\n",
       "      <td>0.050130</td>\n",
       "      <td>0.025909</td>\n",
       "      <td>0.014351</td>\n",
       "      <td>0.008312</td>\n",
       "      <td>0.023506</td>\n",
       "      <td>0.480260</td>\n",
       "      <td>0.029286</td>\n",
       "      <td>0.620130</td>\n",
       "      <td>0.080130</td>\n",
       "      <td>0.036948</td>\n",
       "      <td>0.055844</td>\n",
       "      <td>0.271429</td>\n",
       "      <td>0.043117</td>\n",
       "      <td>0.035649</td>\n",
       "      <td>0.577208</td>\n",
       "      <td>0.311429</td>\n",
       "      <td>0.061234</td>\n",
       "    </tr>\n",
       "    <tr>\n",
       "      <th>1</th>\n",
       "      <td>03</td>\n",
       "      <td>0.130714</td>\n",
       "      <td>0.076299</td>\n",
       "      <td>0.157403</td>\n",
       "      <td>0.040455</td>\n",
       "      <td>1.011364</td>\n",
       "      <td>1.951688</td>\n",
       "      <td>0.105844</td>\n",
       "      <td>0.916948</td>\n",
       "      <td>1.240390</td>\n",
       "      <td>0.508636</td>\n",
       "      <td>0.102597</td>\n",
       "      <td>0.312792</td>\n",
       "      <td>0.044351</td>\n",
       "      <td>0.075844</td>\n",
       "      <td>0.328506</td>\n",
       "      <td>0.437208</td>\n",
       "      <td>0.148831</td>\n",
       "    </tr>\n",
       "    <tr>\n",
       "      <th>2</th>\n",
       "      <td>01</td>\n",
       "      <td>0.112857</td>\n",
       "      <td>0.026104</td>\n",
       "      <td>0.013831</td>\n",
       "      <td>0.027403</td>\n",
       "      <td>0.000000</td>\n",
       "      <td>0.521039</td>\n",
       "      <td>0.020390</td>\n",
       "      <td>0.000000</td>\n",
       "      <td>0.000000</td>\n",
       "      <td>0.045260</td>\n",
       "      <td>0.048377</td>\n",
       "      <td>0.089221</td>\n",
       "      <td>0.024805</td>\n",
       "      <td>0.103506</td>\n",
       "      <td>0.480130</td>\n",
       "      <td>0.269416</td>\n",
       "      <td>0.284351</td>\n",
       "    </tr>\n",
       "    <tr>\n",
       "      <th>3</th>\n",
       "      <td>05</td>\n",
       "      <td>0.177662</td>\n",
       "      <td>0.067403</td>\n",
       "      <td>0.243571</td>\n",
       "      <td>0.037532</td>\n",
       "      <td>0.067143</td>\n",
       "      <td>0.372532</td>\n",
       "      <td>0.174351</td>\n",
       "      <td>0.444805</td>\n",
       "      <td>0.035390</td>\n",
       "      <td>0.262273</td>\n",
       "      <td>0.130195</td>\n",
       "      <td>0.511364</td>\n",
       "      <td>0.092013</td>\n",
       "      <td>0.247597</td>\n",
       "      <td>0.929221</td>\n",
       "      <td>0.446104</td>\n",
       "      <td>0.112922</td>\n",
       "    </tr>\n",
       "    <tr>\n",
       "      <th>4</th>\n",
       "      <td>02</td>\n",
       "      <td>0.043636</td>\n",
       "      <td>0.024091</td>\n",
       "      <td>0.004286</td>\n",
       "      <td>0.019870</td>\n",
       "      <td>0.311429</td>\n",
       "      <td>1.204675</td>\n",
       "      <td>0.014351</td>\n",
       "      <td>0.562403</td>\n",
       "      <td>0.455455</td>\n",
       "      <td>0.013052</td>\n",
       "      <td>0.092143</td>\n",
       "      <td>0.222273</td>\n",
       "      <td>0.051169</td>\n",
       "      <td>0.033117</td>\n",
       "      <td>0.396104</td>\n",
       "      <td>0.315130</td>\n",
       "      <td>0.250065</td>\n",
       "    </tr>\n",
       "    <tr>\n",
       "      <th>...</th>\n",
       "      <td>...</td>\n",
       "      <td>...</td>\n",
       "      <td>...</td>\n",
       "      <td>...</td>\n",
       "      <td>...</td>\n",
       "      <td>...</td>\n",
       "      <td>...</td>\n",
       "      <td>...</td>\n",
       "      <td>...</td>\n",
       "      <td>...</td>\n",
       "      <td>...</td>\n",
       "      <td>...</td>\n",
       "      <td>...</td>\n",
       "      <td>...</td>\n",
       "      <td>...</td>\n",
       "      <td>...</td>\n",
       "      <td>...</td>\n",
       "      <td>...</td>\n",
       "    </tr>\n",
       "    <tr>\n",
       "      <th>995</th>\n",
       "      <td>07</td>\n",
       "      <td>0.550974</td>\n",
       "      <td>0.132922</td>\n",
       "      <td>0.831883</td>\n",
       "      <td>0.098377</td>\n",
       "      <td>0.093442</td>\n",
       "      <td>0.658247</td>\n",
       "      <td>0.062208</td>\n",
       "      <td>0.366883</td>\n",
       "      <td>0.012857</td>\n",
       "      <td>0.415455</td>\n",
       "      <td>0.192013</td>\n",
       "      <td>0.652143</td>\n",
       "      <td>0.073961</td>\n",
       "      <td>0.526104</td>\n",
       "      <td>0.738247</td>\n",
       "      <td>0.426883</td>\n",
       "      <td>0.386948</td>\n",
       "    </tr>\n",
       "    <tr>\n",
       "      <th>996</th>\n",
       "      <td>05</td>\n",
       "      <td>0.061558</td>\n",
       "      <td>0.019481</td>\n",
       "      <td>0.817987</td>\n",
       "      <td>0.027338</td>\n",
       "      <td>0.046558</td>\n",
       "      <td>0.009610</td>\n",
       "      <td>0.075519</td>\n",
       "      <td>0.343701</td>\n",
       "      <td>0.111494</td>\n",
       "      <td>0.072532</td>\n",
       "      <td>0.091429</td>\n",
       "      <td>0.482987</td>\n",
       "      <td>0.193766</td>\n",
       "      <td>0.110844</td>\n",
       "      <td>0.378896</td>\n",
       "      <td>0.382532</td>\n",
       "      <td>0.066688</td>\n",
       "    </tr>\n",
       "    <tr>\n",
       "      <th>997</th>\n",
       "      <td>08</td>\n",
       "      <td>0.057013</td>\n",
       "      <td>0.029870</td>\n",
       "      <td>0.190779</td>\n",
       "      <td>0.015649</td>\n",
       "      <td>0.085844</td>\n",
       "      <td>0.455974</td>\n",
       "      <td>0.145325</td>\n",
       "      <td>0.259675</td>\n",
       "      <td>0.095974</td>\n",
       "      <td>0.219221</td>\n",
       "      <td>0.262403</td>\n",
       "      <td>0.249805</td>\n",
       "      <td>0.080519</td>\n",
       "      <td>0.057727</td>\n",
       "      <td>0.609935</td>\n",
       "      <td>0.303377</td>\n",
       "      <td>0.393571</td>\n",
       "    </tr>\n",
       "    <tr>\n",
       "      <th>998</th>\n",
       "      <td>07</td>\n",
       "      <td>0.076818</td>\n",
       "      <td>0.079286</td>\n",
       "      <td>2.715714</td>\n",
       "      <td>0.034481</td>\n",
       "      <td>1.110455</td>\n",
       "      <td>2.910909</td>\n",
       "      <td>0.098766</td>\n",
       "      <td>2.488896</td>\n",
       "      <td>0.505455</td>\n",
       "      <td>0.982013</td>\n",
       "      <td>0.183506</td>\n",
       "      <td>0.362143</td>\n",
       "      <td>0.081948</td>\n",
       "      <td>0.102792</td>\n",
       "      <td>0.313247</td>\n",
       "      <td>0.495974</td>\n",
       "      <td>0.093377</td>\n",
       "    </tr>\n",
       "    <tr>\n",
       "      <th>999</th>\n",
       "      <td>07</td>\n",
       "      <td>0.062338</td>\n",
       "      <td>0.024481</td>\n",
       "      <td>0.668961</td>\n",
       "      <td>0.029935</td>\n",
       "      <td>0.253961</td>\n",
       "      <td>0.877078</td>\n",
       "      <td>0.042792</td>\n",
       "      <td>0.935390</td>\n",
       "      <td>0.014091</td>\n",
       "      <td>0.120584</td>\n",
       "      <td>0.110649</td>\n",
       "      <td>0.270195</td>\n",
       "      <td>0.060000</td>\n",
       "      <td>0.094286</td>\n",
       "      <td>0.256234</td>\n",
       "      <td>0.510844</td>\n",
       "      <td>0.305519</td>\n",
       "    </tr>\n",
       "  </tbody>\n",
       "</table>\n",
       "<p>1000 rows × 18 columns</p>\n",
       "</div>"
      ],
      "text/plain": [
       "    emotion         0         1         2         3         4         5  \\\n",
       "0        04  0.050130  0.025909  0.014351  0.008312  0.023506  0.480260   \n",
       "1        03  0.130714  0.076299  0.157403  0.040455  1.011364  1.951688   \n",
       "2        01  0.112857  0.026104  0.013831  0.027403  0.000000  0.521039   \n",
       "3        05  0.177662  0.067403  0.243571  0.037532  0.067143  0.372532   \n",
       "4        02  0.043636  0.024091  0.004286  0.019870  0.311429  1.204675   \n",
       "..      ...       ...       ...       ...       ...       ...       ...   \n",
       "995      07  0.550974  0.132922  0.831883  0.098377  0.093442  0.658247   \n",
       "996      05  0.061558  0.019481  0.817987  0.027338  0.046558  0.009610   \n",
       "997      08  0.057013  0.029870  0.190779  0.015649  0.085844  0.455974   \n",
       "998      07  0.076818  0.079286  2.715714  0.034481  1.110455  2.910909   \n",
       "999      07  0.062338  0.024481  0.668961  0.029935  0.253961  0.877078   \n",
       "\n",
       "            6         7         8         9        10        11        12  \\\n",
       "0    0.029286  0.620130  0.080130  0.036948  0.055844  0.271429  0.043117   \n",
       "1    0.105844  0.916948  1.240390  0.508636  0.102597  0.312792  0.044351   \n",
       "2    0.020390  0.000000  0.000000  0.045260  0.048377  0.089221  0.024805   \n",
       "3    0.174351  0.444805  0.035390  0.262273  0.130195  0.511364  0.092013   \n",
       "4    0.014351  0.562403  0.455455  0.013052  0.092143  0.222273  0.051169   \n",
       "..        ...       ...       ...       ...       ...       ...       ...   \n",
       "995  0.062208  0.366883  0.012857  0.415455  0.192013  0.652143  0.073961   \n",
       "996  0.075519  0.343701  0.111494  0.072532  0.091429  0.482987  0.193766   \n",
       "997  0.145325  0.259675  0.095974  0.219221  0.262403  0.249805  0.080519   \n",
       "998  0.098766  2.488896  0.505455  0.982013  0.183506  0.362143  0.081948   \n",
       "999  0.042792  0.935390  0.014091  0.120584  0.110649  0.270195  0.060000   \n",
       "\n",
       "           13        14        15        16  \n",
       "0    0.035649  0.577208  0.311429  0.061234  \n",
       "1    0.075844  0.328506  0.437208  0.148831  \n",
       "2    0.103506  0.480130  0.269416  0.284351  \n",
       "3    0.247597  0.929221  0.446104  0.112922  \n",
       "4    0.033117  0.396104  0.315130  0.250065  \n",
       "..        ...       ...       ...       ...  \n",
       "995  0.526104  0.738247  0.426883  0.386948  \n",
       "996  0.110844  0.378896  0.382532  0.066688  \n",
       "997  0.057727  0.609935  0.303377  0.393571  \n",
       "998  0.102792  0.313247  0.495974  0.093377  \n",
       "999  0.094286  0.256234  0.510844  0.305519  \n",
       "\n",
       "[1000 rows x 18 columns]"
      ]
     },
     "execution_count": 28,
     "metadata": {},
     "output_type": "execute_result"
    }
   ],
   "source": [
    "dfs = []\n",
    "i = 0\n",
    "for fname in filenames[0:1000]:\n",
    "    clear_output(wait=True)\n",
    "    i += 1\n",
    "    print(f'Files processed: {i}')\n",
    "    \n",
    "    fpath = os.path.join(dir_path, fname) # get full \"relative\" path of the file\n",
    "    df = pd.read_csv(fpath) # read the file's data\n",
    "    df['mean'] = df.mean(axis=1)\n",
    "    df = df[['mean']].T\n",
    "    \n",
    "    # create classification labels (emotion)\n",
    "    x = fname.split('-')[2]\n",
    "    df.insert(0,'emotion', x) # add new column\n",
    "    df.reset_index(drop=True, inplace=True)\n",
    "    \n",
    "    dfs.append(df)\n",
    "    \n",
    "data = pd.concat(dfs)    \n",
    "data = data.reset_index(drop=True)\n",
    "data"
   ]
  },
  {
   "cell_type": "code",
   "execution_count": null,
   "id": "a44163dc-a8bd-4b74-afbb-3e9223e350ab",
   "metadata": {},
   "outputs": [],
   "source": []
  },
  {
   "cell_type": "code",
   "execution_count": null,
   "id": "eebf1c0f-3c21-431f-b630-3e01b1552de2",
   "metadata": {},
   "outputs": [],
   "source": []
  },
  {
   "cell_type": "code",
   "execution_count": 24,
   "id": "3d89e171-cb48-47de-b22b-6d601d432d92",
   "metadata": {},
   "outputs": [],
   "source": [
    "# import matplotlib.pyplot as plt\n",
    "\n",
    "# target_names = ['neutral','calm','happy', 'sad','ang','fear','disgust','surprised']\n",
    "# for i, emo in enumerate(sorted(data['emotion'].unique())):\n",
    "#     emo_df = data[data['emotion']==emo]\n",
    "#     emo_df=emo_df.iloc[:,1:]\n",
    "#     plt.figure(figsize = (8,2))\n",
    "#     box = plt.boxplot(emo_df, patch_artist=True, flierprops={'marker': 'o', 'markersize': 4})\n",
    "\n",
    "#     # add different color for different boxes\n",
    "#     colors = ['blue', 'green', 'purple', 'tan', 'pink', 'red','cyan',\n",
    "#               'brown','orange','gray','tomato','darkgreen','navy','salmon',\n",
    "#               'crimson','seagreen','yellow']\n",
    "\n",
    "#     for patch, color in zip(box['boxes'], colors):\n",
    "#         patch.set_facecolor(color)\n",
    "#     plt.title(target_names[i])\n",
    " "
   ]
  },
  {
   "cell_type": "code",
   "execution_count": null,
   "id": "3517058d-c7f9-4afd-8528-ce29b7a705e0",
   "metadata": {},
   "outputs": [],
   "source": []
  },
  {
   "cell_type": "code",
   "execution_count": 32,
   "id": "bb4441fa-35bc-4450-9de5-11c3394471bf",
   "metadata": {},
   "outputs": [
    {
     "data": {
      "image/png": "[encoded data removed]",
      "text/plain": [
       "<Figure size 1400x700 with 8 Axes>"
      ]
     },
     "metadata": {},
     "output_type": "display_data"
    }
   ],
   "source": [
    "labels = ['neutral','calm','happy', 'sad','ang','fear','disgust','surprised']\n",
    "\n",
    "fig, ax = plt.subplots(nrows = 4, ncols = 2, figsize = (14,7))\n",
    "sns.boxplot(data[data['emotion']=='01'].iloc[:,1:], ax = ax[0,0]).set_title(labels[0])\n",
    "sns.boxplot(data[data['emotion']=='02'].iloc[:,1:], ax = ax[0,1]).set_title(labels[1])\n",
    "sns.boxplot(data[data['emotion']=='03'].iloc[:,1:], ax = ax[1,0]).set_title(labels[2])\n",
    "sns.boxplot(data[data['emotion']=='04'].iloc[:,1:], ax = ax[1,1]).set_title(labels[3])\n",
    "sns.boxplot(data[data['emotion']=='05'].iloc[:,1:], ax = ax[2,0]).set_title(labels[4])\n",
    "sns.boxplot(data[data['emotion']=='06'].iloc[:,1:], ax = ax[2,1]).set_title(labels[5])\n",
    "sns.boxplot(data[data['emotion']=='07'].iloc[:,1:], ax = ax[3,0]).set_title(labels[6])\n",
    "sns.boxplot(data[data['emotion']=='08'].iloc[:,1:], ax = ax[3,1]).set_title(labels[7])\n",
    "fig.tight_layout()\n",
    "plt.show()"
   ]
  },
  {
   "cell_type": "markdown",
   "id": "72e2df84-41f7-4c05-8deb-1b55175e9cca",
   "metadata": {},
   "source": [
    "#### Performance prediction\n",
    "We have an equal distribution of the three emotion categories in our data (92+92+92=276). We'll assume a \"majority-classifier\", which would have 33.33% accuracy, as our baseline. Our own Logistic Regression model should perform significantly better than the baseline classifier. "
   ]
  },
  {
   "cell_type": "markdown",
   "id": "bfac8190-19e3-4708-ae10-548149d38a19",
   "metadata": {},
   "source": [
    "#### Prepare data for LogisticRegression\n",
    "Next, we will prepare the data for fitting a LogisticRegression model using Scikit-learn. We need to: \n",
    "+ flatten the matrix data for each file (so that we have all data for one emotion example as a single row)\n",
    "+ create the target labels from filenames (as per the convention described above)"
   ]
  },
  {
   "cell_type": "code",
   "execution_count": 42,
   "id": "41ae9f06-ff37-47e1-a3c2-acc5bb529f62",
   "metadata": {},
   "outputs": [
    {
     "data": {
      "text/plain": [
       "array([[1, 2, 3, 4, 5, 6]])"
      ]
     },
     "execution_count": 42,
     "metadata": {},
     "output_type": "execute_result"
    }
   ],
   "source": [
    "x = np.array([\n",
    "    [1,2,3],\n",
    "    [4,5,6]\n",
    "])\n",
    "x.shape\n",
    "# df = np.reshape(df, (1, df.shape[0] * df.shape[1])) # flatten\n",
    "np.reshape(x, (1,6))"
   ]
  },
  {
   "cell_type": "code",
   "execution_count": 43,
   "id": "f68fc88e-8a92-478b-861d-97e725670df5",
   "metadata": {},
   "outputs": [
    {
     "name": "stdout",
     "output_type": "stream",
     "text": [
      "0\n",
      "1\n",
      "2\n",
      "3\n",
      "4\n",
      "5\n",
      "6\n",
      "7\n",
      "8\n",
      "9\n",
      "10\n",
      "11\n",
      "12\n",
      "13\n",
      "14\n",
      "15\n",
      "16\n",
      "17\n",
      "18\n",
      "19\n",
      "20\n",
      "21\n",
      "22\n",
      "23\n",
      "24\n"
     ]
    }
   ],
   "source": [
    "cols = []\n",
    "\n",
    "for i in range(5*5):\n",
    "    \n",
    "    print(i)"
   ]
  },
  {
   "cell_type": "code",
   "execution_count": null,
   "id": "a60b1b44-b5b7-4d47-8ac0-e6771a24d098",
   "metadata": {},
   "outputs": [],
   "source": []
  },
  {
   "cell_type": "code",
   "execution_count": 37,
   "id": "bfbd29f0-bb4e-4e88-a3cb-c6e08ab216a4",
   "metadata": {},
   "outputs": [
    {
     "name": "stdout",
     "output_type": "stream",
     "text": [
      "Files processed: 1\n",
      "      0    1    2    3    4    5    6    7    8    9  ...  144  145  146  147  \\\n",
      "0   0.0  0.0  0.0  0.0  0.0  0.0  0.0  0.0  0.0  0.0  ...  0.0  0.0  0.0  0.0   \n",
      "1   0.0  0.0  0.0  0.0  0.0  0.0  0.0  0.0  0.0  0.0  ...  0.0  0.0  0.0  0.0   \n",
      "2   0.0  0.0  0.0  0.0  0.0  0.0  0.0  0.0  0.0  0.0  ...  0.0  0.0  0.0  0.0   \n",
      "3   0.0  0.0  0.0  0.0  0.0  0.0  0.0  0.0  0.0  0.0  ...  0.0  0.0  0.0  0.0   \n",
      "4   0.0  0.0  0.0  0.0  0.0  0.0  0.0  0.0  0.0  0.0  ...  0.0  0.0  0.0  0.0   \n",
      "5   0.0  0.0  0.0  0.0  0.0  0.0  0.0  0.0  0.0  0.0  ...  0.0  0.0  0.0  0.0   \n",
      "6   0.0  0.0  0.0  0.0  0.0  0.0  0.0  0.0  0.0  0.0  ...  0.0  0.0  0.0  0.0   \n",
      "7   0.0  0.0  0.0  0.0  0.0  0.0  0.0  0.0  0.0  0.0  ...  0.0  0.0  0.0  0.0   \n",
      "8   0.0  0.0  0.0  0.0  0.0  0.0  0.0  0.0  0.0  0.0  ...  0.0  0.0  0.0  0.0   \n",
      "9   0.0  0.0  0.0  0.0  0.0  0.0  0.0  0.0  0.0  0.0  ...  0.0  0.0  0.0  0.0   \n",
      "10  0.0  0.0  0.0  0.0  0.0  0.0  0.0  0.0  0.0  0.0  ...  0.0  0.0  0.0  0.0   \n",
      "11  0.0  0.0  0.0  0.0  0.0  0.0  0.0  0.0  0.0  0.0  ...  0.0  0.0  0.0  0.0   \n",
      "12  0.0  0.0  0.0  0.0  0.0  0.0  0.0  0.0  0.0  0.0  ...  0.0  0.0  0.0  0.0   \n",
      "13  0.0  0.0  0.0  0.0  0.0  0.0  0.0  0.0  0.0  0.0  ...  0.0  0.0  0.0  0.0   \n",
      "14  0.0  0.0  0.0  0.0  0.0  0.0  0.0  0.0  0.0  0.0  ...  0.0  0.0  0.0  0.0   \n",
      "15  0.0  0.0  0.0  0.0  0.0  0.0  0.0  0.0  0.0  0.0  ...  0.0  0.0  0.0  0.0   \n",
      "16  0.0  0.0  0.0  0.0  0.0  0.0  0.0  0.0  0.0  0.0  ...  0.0  0.0  0.0  0.0   \n",
      "\n",
      "    148  149  150  151  152  153  \n",
      "0   0.0  0.0  0.0  0.0  0.0  0.0  \n",
      "1   0.0  0.0  0.0  0.0  0.0  0.0  \n",
      "2   0.0  0.0  0.0  0.0  0.0  0.0  \n",
      "3   0.0  0.0  0.0  0.0  0.0  0.0  \n",
      "4   0.0  0.0  0.0  0.0  0.0  0.0  \n",
      "5   0.0  0.0  0.0  0.0  0.0  0.0  \n",
      "6   0.0  0.0  0.0  0.0  0.0  0.0  \n",
      "7   0.0  0.0  0.0  0.0  0.0  0.0  \n",
      "8   0.0  0.0  0.0  0.0  0.0  0.0  \n",
      "9   0.0  0.0  0.0  0.0  0.0  0.0  \n",
      "10  0.0  0.0  0.0  0.0  0.0  0.0  \n",
      "11  0.0  0.0  0.0  0.0  0.0  0.0  \n",
      "12  0.0  0.0  0.0  0.0  0.0  0.0  \n",
      "13  0.0  0.0  0.0  0.0  0.0  0.0  \n",
      "14  0.0  0.0  0.0  0.0  0.0  0.0  \n",
      "15  0.0  0.0  0.0  0.0  0.0  0.0  \n",
      "16  0.0  0.0  0.0  0.0  0.0  0.0  \n",
      "\n",
      "[17 rows x 154 columns]\n",
      "[[0. 0. 0. ... 0. 0. 0.]\n",
      " [0. 0. 0. ... 0. 0. 0.]\n",
      " [0. 0. 0. ... 0. 0. 0.]\n",
      " ...\n",
      " [0. 0. 0. ... 0. 0. 0.]\n",
      " [0. 0. 0. ... 0. 0. 0.]\n",
      " [0. 0. 0. ... 0. 0. 0.]]\n",
      "   0     1     2     3     4     5     6     7     8     9     ...  2608  \\\n",
      "0   0.0   0.0   0.0   0.0   0.0   0.0   0.0   0.0   0.0   0.0  ...   0.0   \n",
      "\n",
      "   2609  2610  2611  2612  2613  2614  2615  2616  2617  \n",
      "0   0.0   0.0   0.0   0.0   0.0   0.0   0.0   0.0   0.0  \n",
      "\n",
      "[1 rows x 2618 columns]\n"
     ]
    },
    {
     "ename": "NameError",
     "evalue": "name 'fail' is not defined",
     "output_type": "error",
     "traceback": [
      "\u001b[0;31m---------------------------------------------------------------------------\u001b[0m",
      "\u001b[0;31mNameError\u001b[0m                                 Traceback (most recent call last)",
      "Cell \u001b[0;32mIn[37], line 18\u001b[0m\n\u001b[1;32m     16\u001b[0m df \u001b[38;5;241m=\u001b[39m pd\u001b[38;5;241m.\u001b[39mDataFrame(df)\n\u001b[1;32m     17\u001b[0m \u001b[38;5;28mprint\u001b[39m(df)\n\u001b[0;32m---> 18\u001b[0m \u001b[43mfail\u001b[49m\n\u001b[1;32m     20\u001b[0m \u001b[38;5;66;03m# create classification labels (emotion)\u001b[39;00m\n\u001b[1;32m     21\u001b[0m x \u001b[38;5;241m=\u001b[39m fname\u001b[38;5;241m.\u001b[39msplit(\u001b[38;5;124m'\u001b[39m\u001b[38;5;124m-\u001b[39m\u001b[38;5;124m'\u001b[39m)[\u001b[38;5;241m2\u001b[39m]\n",
      "\u001b[0;31mNameError\u001b[0m: name 'fail' is not defined"
     ]
    }
   ],
   "source": [
    "# read individual csv files, flatten them, and combined into master data file\n",
    "dfs = [] # empty list for storing flattened individual dataframes\n",
    "i = 0\n",
    "for fname in filenames:\n",
    "    clear_output(wait=True)\n",
    "    i += 1\n",
    "    print(f'Files processed: {i}')\n",
    "    \n",
    "    fpath = os.path.join(dir_path, fname) # get full \"relative\" path of the file\n",
    "    df = pd.read_csv(fpath) # read the file's data\n",
    "    print(df)\n",
    "    # flatten the data\n",
    "    df = df.to_numpy()\n",
    "    print(df)\n",
    "    df = np.reshape(df, (1, df.shape[0] * df.shape[1])) # flatten\n",
    "    df = pd.DataFrame(df)\n",
    "    print(df)\n",
    "    fail\n",
    "    \n",
    "    # create classification labels (emotion)\n",
    "    x = fname.split('-')[2]\n",
    "    df.insert(0,'emotion', x) # add new column\n",
    "    df.reset_index(drop=True, inplace=True)\n",
    "    \n",
    "    dfs.append(df) # append to the list\n",
    "\n",
    "data_flattened = pd.concat(dfs, ignore_index=False) # convert lists of df's to single big df  \n",
    "data = data_flattened.fillna(0) # fill nan values with zeros"
   ]
  },
  {
   "cell_type": "code",
   "execution_count": 70,
   "id": "8690beca-f586-49de-a060-d564a14f891c",
   "metadata": {},
   "outputs": [
    {
     "data": {
      "text/plain": [
       "emotion\n",
       "01    192\n",
       "02    384\n",
       "03    384\n",
       "04    384\n",
       "05    384\n",
       "06    384\n",
       "07    384\n",
       "08    384\n",
       "dtype: int64"
      ]
     },
     "execution_count": 70,
     "metadata": {},
     "output_type": "execute_result"
    }
   ],
   "source": [
    "data.groupby('emotion').size()"
   ]
  },
  {
   "cell_type": "code",
   "execution_count": 72,
   "id": "2733933e-0f13-4df9-89ce-c9815c61a11f",
   "metadata": {},
   "outputs": [
    {
     "data": {
      "text/plain": [
       "(2880, 2619)"
      ]
     },
     "execution_count": 72,
     "metadata": {},
     "output_type": "execute_result"
    }
   ],
   "source": [
    "data.shape"
   ]
  },
  {
   "cell_type": "code",
   "execution_count": 73,
   "id": "bd420560-837e-49a0-96d7-8515e8adc6f4",
   "metadata": {},
   "outputs": [],
   "source": [
    "# from sklearn.feature_selection import SelectKBest\n",
    "# from sklearn.feature_selection import chi2, f_regression\n",
    "# from sklearn.datasets import load_boston\n",
    "# from sklearn.datasets import load_iris\n",
    "# from numpy import array \n",
    "\n",
    "# select = SelectKBest(score_func=chi2, k=3)\n",
    "# z = select.fit_transform(x,y)\n",
    "\n",
    "# print(\"After selecting best 3 features:\", z.shape) \n"
   ]
  },
  {
   "cell_type": "markdown",
   "id": "dfa00dcf-3fd7-48d0-8ef2-8c1877ef3b00",
   "metadata": {},
   "source": [
    "#### Logistic Regression model using scikit-learn"
   ]
  },
  {
   "cell_type": "code",
   "execution_count": 96,
   "id": "d2f8fa5a",
   "metadata": {},
   "outputs": [],
   "source": [
    "# classification using logistic regression\n",
    "from sklearn.pipeline import make_pipeline\n",
    "from sklearn.model_selection import train_test_split\n",
    "from sklearn.linear_model import LogisticRegression\n",
    "from sklearn.metrics import accuracy_score\n",
    "\n",
    "# extract the input features and targets from the dataset\n",
    "X = data.iloc[:, 1:]\n",
    "y = data.iloc[:, 0:1]\n"
   ]
  },
  {
   "cell_type": "code",
   "execution_count": 123,
   "id": "b04a52b6-a1dd-46bc-9fa9-c638f4295f20",
   "metadata": {},
   "outputs": [
    {
     "name": "stdout",
     "output_type": "stream",
     "text": [
      "(2880, 2618)\n",
      "(2880, 915)\n"
     ]
    }
   ],
   "source": [
    "# apply variance threshold to reduce the number of features\n",
    "import numpy as np\n",
    "from sklearn.feature_selection import VarianceThreshold\n",
    "\n",
    "X = data.iloc[:, 1:]\n",
    "y = data.iloc[:, 0:1]\n",
    "\n",
    "print(X.shape)\n",
    "selector = VarianceThreshold(threshold = 0.30)\n",
    "X = selector.fit_transform(X)\n",
    "print(X.shape)"
   ]
  },
  {
   "cell_type": "code",
   "execution_count": 124,
   "id": "6fa952c4-54d5-42f6-9af8-792e858a2d42",
   "metadata": {},
   "outputs": [],
   "source": [
    "# split train and test data \n",
    "X_train, X_test, y_train, y_test = train_test_split(X, y, test_size = .3, random_state = 365)\n",
    "X_val, X_test, y_val, y_test = train_test_split(X_test, y_test, test_size = .5, random_state = 365)\n"
   ]
  },
  {
   "cell_type": "code",
   "execution_count": 125,
   "id": "2c6745c4-e190-40f8-9fd3-a96aa7d92c02",
   "metadata": {},
   "outputs": [
    {
     "data": {
      "text/plain": [
       "0.9004629629629629"
      ]
     },
     "execution_count": 125,
     "metadata": {},
     "output_type": "execute_result"
    }
   ],
   "source": [
    "# fit the model\n",
    "clf = LogisticRegression(max_iter = 3000) # initiate the model\n",
    "y_train = y_train.values.ravel() # flatten y to make it compatible with the input required\n",
    "clf.fit(X_train,y_train) # train the model\n",
    "\n",
    "# get accuracy of the model on the VAL data\n",
    "y_pred = clf.predict(X_val) # make predictions for the test data\n",
    "accuracy_score(y_pred, y_val) # get accuracy score"
   ]
  },
  {
   "cell_type": "code",
   "execution_count": 164,
   "id": "12349286-0e50-43c1-8a6a-6fb1e18ae983",
   "metadata": {},
   "outputs": [
    {
     "data": {
      "text/plain": [
       "0.9004629629629629"
      ]
     },
     "execution_count": 164,
     "metadata": {},
     "output_type": "execute_result"
    }
   ],
   "source": [
    "from sklearn.ensemble import RandomForestClassifier\n",
    "\n",
    "clf = RandomForestClassifier(max_depth=10, random_state=0)\n",
    "clf.fit(X_train,y_train) # train the model\n",
    "\n",
    "# get accuracy of the model on the VAL data\n",
    "y_pred = clf.predict(X_val) # make predictions for the test data\n",
    "accuracy_score(y_pred, y_val) # get accuracy score"
   ]
  },
  {
   "cell_type": "code",
   "execution_count": 165,
   "id": "987202f6-5908-4822-8535-27710469b9df",
   "metadata": {},
   "outputs": [
    {
     "data": {
      "text/plain": [
       "0.8991107053649918"
      ]
     },
     "execution_count": 165,
     "metadata": {},
     "output_type": "execute_result"
    }
   ],
   "source": [
    "from sklearn.metrics import f1_score\n",
    "\n",
    "f1_score(y_val, y_pred, average='macro')"
   ]
  },
  {
   "cell_type": "code",
   "execution_count": 166,
   "id": "371c8da8-696f-4cca-92b6-4ae5f23d39d4",
   "metadata": {},
   "outputs": [
    {
     "name": "stdout",
     "output_type": "stream",
     "text": [
      "              precision    recall  f1-score   support\n",
      "\n",
      "     neutral       0.89      0.92      0.90        36\n",
      "        calm       0.91      0.96      0.93        51\n",
      "       happy       0.95      0.97      0.96        61\n",
      "         sad       0.91      0.68      0.78        57\n",
      "         ang       0.96      0.96      0.96        51\n",
      "        fear       0.89      0.92      0.90        59\n",
      "     disgust       0.84      0.97      0.90        61\n",
      "   surprised       0.87      0.84      0.85        56\n",
      "\n",
      "    accuracy                           0.90       432\n",
      "   macro avg       0.90      0.90      0.90       432\n",
      "weighted avg       0.90      0.90      0.90       432\n",
      "\n"
     ]
    }
   ],
   "source": [
    "from sklearn.metrics import classification_report\n",
    "\n",
    "target_names = ['neutral','calm','happy', 'sad','ang','fear','disgust','surprised']\n",
    "print(classification_report(y_val, y_pred, target_names = target_names))"
   ]
  },
  {
   "cell_type": "code",
   "execution_count": 167,
   "id": "da18216e-9f1a-4b2d-b18c-a6d614bdbe57",
   "metadata": {},
   "outputs": [
    {
     "data": {
      "text/plain": [
       "emotion    object\n",
       "dtype: object"
      ]
     },
     "execution_count": 167,
     "metadata": {},
     "output_type": "execute_result"
    }
   ],
   "source": [
    "y_val.dtypes"
   ]
  },
  {
   "cell_type": "code",
   "execution_count": 168,
   "id": "ac0ee076-9590-46a9-80ad-cf0240702963",
   "metadata": {},
   "outputs": [
    {
     "data": {
      "text/html": [
       "<div>\n",
       "<style scoped>\n",
       "    .dataframe tbody tr th:only-of-type {\n",
       "        vertical-align: middle;\n",
       "    }\n",
       "\n",
       "    .dataframe tbody tr th {\n",
       "        vertical-align: top;\n",
       "    }\n",
       "\n",
       "    .dataframe thead th {\n",
       "        text-align: right;\n",
       "    }\n",
       "</style>\n",
       "<table border=\"1\" class=\"dataframe\">\n",
       "  <thead>\n",
       "    <tr style=\"text-align: right;\">\n",
       "      <th></th>\n",
       "      <th>neutral</th>\n",
       "      <th>calm</th>\n",
       "      <th>happy</th>\n",
       "      <th>sad</th>\n",
       "      <th>ang</th>\n",
       "      <th>fear</th>\n",
       "      <th>disgust</th>\n",
       "      <th>surprised</th>\n",
       "    </tr>\n",
       "  </thead>\n",
       "  <tbody>\n",
       "    <tr>\n",
       "      <th>neutral</th>\n",
       "      <td>33</td>\n",
       "      <td>3</td>\n",
       "      <td>0</td>\n",
       "      <td>0</td>\n",
       "      <td>0</td>\n",
       "      <td>0</td>\n",
       "      <td>0</td>\n",
       "      <td>0</td>\n",
       "    </tr>\n",
       "    <tr>\n",
       "      <th>calm</th>\n",
       "      <td>0</td>\n",
       "      <td>49</td>\n",
       "      <td>0</td>\n",
       "      <td>0</td>\n",
       "      <td>0</td>\n",
       "      <td>0</td>\n",
       "      <td>2</td>\n",
       "      <td>0</td>\n",
       "    </tr>\n",
       "    <tr>\n",
       "      <th>happy</th>\n",
       "      <td>0</td>\n",
       "      <td>0</td>\n",
       "      <td>59</td>\n",
       "      <td>0</td>\n",
       "      <td>0</td>\n",
       "      <td>0</td>\n",
       "      <td>0</td>\n",
       "      <td>2</td>\n",
       "    </tr>\n",
       "    <tr>\n",
       "      <th>sad</th>\n",
       "      <td>4</td>\n",
       "      <td>2</td>\n",
       "      <td>0</td>\n",
       "      <td>39</td>\n",
       "      <td>1</td>\n",
       "      <td>3</td>\n",
       "      <td>6</td>\n",
       "      <td>2</td>\n",
       "    </tr>\n",
       "    <tr>\n",
       "      <th>ang</th>\n",
       "      <td>0</td>\n",
       "      <td>0</td>\n",
       "      <td>0</td>\n",
       "      <td>0</td>\n",
       "      <td>49</td>\n",
       "      <td>1</td>\n",
       "      <td>0</td>\n",
       "      <td>1</td>\n",
       "    </tr>\n",
       "    <tr>\n",
       "      <th>fear</th>\n",
       "      <td>0</td>\n",
       "      <td>0</td>\n",
       "      <td>1</td>\n",
       "      <td>1</td>\n",
       "      <td>1</td>\n",
       "      <td>54</td>\n",
       "      <td>1</td>\n",
       "      <td>1</td>\n",
       "    </tr>\n",
       "    <tr>\n",
       "      <th>disgust</th>\n",
       "      <td>0</td>\n",
       "      <td>0</td>\n",
       "      <td>0</td>\n",
       "      <td>1</td>\n",
       "      <td>0</td>\n",
       "      <td>0</td>\n",
       "      <td>59</td>\n",
       "      <td>1</td>\n",
       "    </tr>\n",
       "    <tr>\n",
       "      <th>surprised</th>\n",
       "      <td>0</td>\n",
       "      <td>0</td>\n",
       "      <td>2</td>\n",
       "      <td>2</td>\n",
       "      <td>0</td>\n",
       "      <td>3</td>\n",
       "      <td>2</td>\n",
       "      <td>47</td>\n",
       "    </tr>\n",
       "  </tbody>\n",
       "</table>\n",
       "</div>"
      ],
      "text/plain": [
       "           neutral  calm  happy  sad  ang  fear  disgust  surprised\n",
       "neutral         33     3      0    0    0     0        0          0\n",
       "calm             0    49      0    0    0     0        2          0\n",
       "happy            0     0     59    0    0     0        0          2\n",
       "sad              4     2      0   39    1     3        6          2\n",
       "ang              0     0      0    0   49     1        0          1\n",
       "fear             0     0      1    1    1    54        1          1\n",
       "disgust          0     0      0    1    0     0       59          1\n",
       "surprised        0     0      2    2    0     3        2         47"
      ]
     },
     "execution_count": 168,
     "metadata": {},
     "output_type": "execute_result"
    }
   ],
   "source": [
    "# CREATE CONFUSION MATRIX\n",
    "from sklearn.metrics import confusion_matrix\n",
    "\n",
    "confusion_matrix(y_val, y_pred)\n",
    "\n",
    "cdf = pd.DataFrame(confusion_matrix(y_val, y_pred),\n",
    "                  index = target_names)\n",
    "cdf.columns = target_names\n",
    "cdf"
   ]
  },
  {
   "cell_type": "code",
   "execution_count": 169,
   "id": "d116415e-884e-4f89-9294-f7ec755663c7",
   "metadata": {},
   "outputs": [
    {
     "data": {
      "text/plain": [
       "emotion\n",
       "01    36\n",
       "02    51\n",
       "03    61\n",
       "04    57\n",
       "05    51\n",
       "06    59\n",
       "07    61\n",
       "08    56\n",
       "dtype: int64"
      ]
     },
     "execution_count": 169,
     "metadata": {},
     "output_type": "execute_result"
    }
   ],
   "source": [
    "y_val.groupby('emotion').size()"
   ]
  },
  {
   "cell_type": "code",
   "execution_count": 170,
   "id": "6c2db0c6-f7e0-41dc-8e7b-3115cf973578",
   "metadata": {},
   "outputs": [
    {
     "data": {
      "text/plain": [
       "0.9883236090045904"
      ]
     },
     "execution_count": 170,
     "metadata": {},
     "output_type": "execute_result"
    }
   ],
   "source": [
    "from sklearn.metrics import roc_auc_score\n",
    "\n",
    "roc_auc_score(pd.get_dummies(y_val), clf.predict_proba(X_val), multi_class='ovr')\n"
   ]
  },
  {
   "cell_type": "code",
   "execution_count": 163,
   "id": "63b23c63-5125-4e4d-a484-60b8ef7a8ec8",
   "metadata": {},
   "outputs": [
    {
     "data": {
      "text/plain": [
       "emotion\n",
       "01    36\n",
       "02    51\n",
       "03    61\n",
       "04    57\n",
       "05    51\n",
       "06    59\n",
       "07    61\n",
       "08    56\n",
       "dtype: int64"
      ]
     },
     "execution_count": 163,
     "metadata": {},
     "output_type": "execute_result"
    }
   ],
   "source": [
    "y_val.groupby('emotion').size()"
   ]
  },
  {
   "cell_type": "markdown",
   "id": "f004a6ec-08b7-45ff-807a-6c0a9731ceb1",
   "metadata": {},
   "source": [
    "### Conclusion\n",
    "We acheieved a **% accuracy, which is indeed significantly higher than the 33.33% offered by our baseline classifier. Furthermore, a 95% accuracy indicates a very effective model. Therefore, Facial Action Parameters can be very effective and useful in predicting emotion from visual cues only, even without any use of, or in the absence of, audio data. "
   ]
  },
  {
   "cell_type": "code",
   "execution_count": null,
   "id": "aea81904-e9e2-464f-9c2b-6f4a6ac6583f",
   "metadata": {},
   "outputs": [],
   "source": []
  }
 ],
 "metadata": {
  "kernelspec": {
   "display_name": "Python 3 (ipykernel)",
   "language": "python",
   "name": "python3"
  },
  "language_info": {
   "codemirror_mode": {
    "name": "ipython",
    "version": 3
   },
   "file_extension": ".py",
   "mimetype": "text/x-python",
   "name": "python",
   "nbconvert_exporter": "python",
   "pygments_lexer": "ipython3",
   "version": "3.9.12"
  }
 },
 "nbformat": 4,
 "nbformat_minor": 5
}
